{
  "nbformat": 4,
  "nbformat_minor": 0,
  "metadata": {
    "colab": {
      "name": "Untitled0.ipynb",
      "provenance": [],
      "mount_file_id": "1C4YlHqT46grLV-saSCheLGFzlGDHy-DQ",
      "authorship_tag": "ABX9TyMo52OsA6JKfBiVG9qN/1Vw",
      "include_colab_link": true
    },
    "kernelspec": {
      "name": "python3",
      "display_name": "Python 3"
    },
    "language_info": {
      "name": "python"
    }
  },
  "cells": [
    {
      "cell_type": "markdown",
      "metadata": {
        "id": "view-in-github",
        "colab_type": "text"
      },
      "source": [
        "<a href=\"https://colab.research.google.com/github/Shobhit30/Shobhit30/blob/main/Untitled0.ipynb\" target=\"_parent\"><img src=\"https://colab.research.google.com/assets/colab-badge.svg\" alt=\"Open In Colab\"/></a>"
      ]
    },
    {
      "cell_type": "code",
      "source": [
        "from google.colab import drive\n",
        "drive.mount('/content/drive')"
      ],
      "metadata": {
        "colab": {
          "base_uri": "https://localhost:8080/"
        },
        "id": "UJoxV2tAGQkY",
        "outputId": "86d519f7-afc0-49b0-f8af-cae3cdaa3df3"
      },
      "execution_count": 1,
      "outputs": [
        {
          "output_type": "stream",
          "name": "stdout",
          "text": [
            "Drive already mounted at /content/drive; to attempt to forcibly remount, call drive.mount(\"/content/drive\", force_remount=True).\n"
          ]
        }
      ]
    },
    {
      "cell_type": "code",
      "source": [
        "import tensorflow as tf\n",
        "import pandas as pd\n",
        "import numpy as np"
      ],
      "metadata": {
        "id": "dFR10wlKGX8N"
      },
      "execution_count": 4,
      "outputs": []
    },
    {
      "cell_type": "code",
      "source": [
        "# Read the data\n",
        "df = pd.read_json(\"/content/drive/MyDrive/shipsnet.json\")"
      ],
      "metadata": {
        "id": "EQrRkXPfGX_b"
      },
      "execution_count": 5,
      "outputs": []
    },
    {
      "cell_type": "code",
      "source": [
        "# Normalize and reshape the image data\n",
        "df[\"normalized_data\"] = df[\"data\"].apply(lambda x: (np.array(x) / 255).reshape(80, 80, 3))"
      ],
      "metadata": {
        "id": "ylPLqKkvGYC8"
      },
      "execution_count": 6,
      "outputs": []
    },
    {
      "cell_type": "code",
      "source": [
        "# Define X and Y\n",
        "X = df[\"normalized_data\"]\n",
        "Y = df[\"labels\"]\n",
        "# Split the data into training and testing sets. Use a 75/25 split\n",
        "from sklearn.model_selection import train_test_split\n",
        "(X_train, X_test, Y_train, Y_test) = train_test_split(X, Y, test_size=0.25, random_state=42)"
      ],
      "metadata": {
        "id": "K4INprVuGYG0"
      },
      "execution_count": 7,
      "outputs": []
    },
    {
      "cell_type": "code",
      "source": [
        "# Transform the training and testing data into arrays\n",
        "X_train = np.array([x for x in X_train])\n",
        "X_test = np.array([x for x in X_test])\n",
        "Y_train = np.array([y for y in Y_train])\n",
        "Y_test = np.array([y for y in Y_test])"
      ],
      "metadata": {
        "id": "OBtBeacWGYKP"
      },
      "execution_count": 8,
      "outputs": []
    },
    {
      "cell_type": "code",
      "source": [
        "from tensorflow.keras import datasets, layers, models\n",
        "from tensorflow.keras.layers import Activation\n",
        "# Starts the model with a sequential ANN\n",
        "model = models.Sequential()"
      ],
      "metadata": {
        "id": "IY_F9D1GIJV6"
      },
      "execution_count": 9,
      "outputs": []
    },
    {
      "cell_type": "code",
      "source": [
        "# Adds the first convulsion layer and follows up with max pooling\n",
        "model.add(layers.Conv2D(32, (3, 3), activation='relu', input_shape=(80, 80, 3)))\n",
        "model.add(layers.MaxPooling2D((2, 2)))"
      ],
      "metadata": {
        "id": "XWLph83CIJZg"
      },
      "execution_count": 10,
      "outputs": []
    },
    {
      "cell_type": "code",
      "source": [
        "# Flattens the input into a 1D tensor\n",
        "model.add(layers.Flatten())\n",
        "# Makes the input more readable for classification\n",
        "model.add(layers.Dense(64, activation='relu'))\n",
        "# Classifies - ensure the input in the number of classes, indexed\n",
        "# at 0\n",
        "model.add(layers.Dense(1))\n",
        "# Final activation function\n",
        "model.add(Activation('sigmoid'))"
      ],
      "metadata": {
        "id": "nVYi-VHAIJfv"
      },
      "execution_count": 11,
      "outputs": []
    },
    {
      "cell_type": "code",
      "source": [
        "model.summary()"
      ],
      "metadata": {
        "colab": {
          "base_uri": "https://localhost:8080/"
        },
        "id": "vC5uR9bzISZv",
        "outputId": "e6bf7838-68c6-493e-95da-056fccf0ab86"
      },
      "execution_count": 12,
      "outputs": [
        {
          "output_type": "stream",
          "name": "stdout",
          "text": [
            "Model: \"sequential\"\n",
            "_________________________________________________________________\n",
            " Layer (type)                Output Shape              Param #   \n",
            "=================================================================\n",
            " conv2d (Conv2D)             (None, 78, 78, 32)        896       \n",
            "                                                                 \n",
            " max_pooling2d (MaxPooling2D  (None, 39, 39, 32)       0         \n",
            " )                                                               \n",
            "                                                                 \n",
            " flatten (Flatten)           (None, 48672)             0         \n",
            "                                                                 \n",
            " dense (Dense)               (None, 64)                3115072   \n",
            "                                                                 \n",
            " dense_1 (Dense)             (None, 1)                 65        \n",
            "                                                                 \n",
            " activation (Activation)     (None, 1)                 0         \n",
            "                                                                 \n",
            "=================================================================\n",
            "Total params: 3,116,033\n",
            "Trainable params: 3,116,033\n",
            "Non-trainable params: 0\n",
            "_________________________________________________________________\n"
          ]
        }
      ]
    },
    {
      "cell_type": "code",
      "source": [
        "# Compile the model\n",
        "# Use binary_crossentropy because there are only 2 classes present\n",
        "model.compile(loss='binary_crossentropy', optimizer='rmsprop', metrics=['accuracy'])"
      ],
      "metadata": {
        "id": "5AQ1kG2fISdZ"
      },
      "execution_count": 13,
      "outputs": []
    },
    {
      "cell_type": "code",
      "source": [
        "# Train the model\n",
        "gen_model = model.fit(X_train, Y_train, epochs=10, validation_data=(X_test, Y_test))"
      ],
      "metadata": {
        "colab": {
          "base_uri": "https://localhost:8080/"
        },
        "id": "4XhklL9YIShX",
        "outputId": "418e51d6-e246-4df4-a360-0db4d8c45624"
      },
      "execution_count": 14,
      "outputs": [
        {
          "output_type": "stream",
          "name": "stdout",
          "text": [
            "Epoch 1/10\n",
            "94/94 [==============================] - 16s 151ms/step - loss: 0.4362 - accuracy: 0.8693 - val_loss: 0.2837 - val_accuracy: 0.8940\n",
            "Epoch 2/10\n",
            "94/94 [==============================] - 14s 149ms/step - loss: 0.1600 - accuracy: 0.9437 - val_loss: 0.1202 - val_accuracy: 0.9580\n",
            "Epoch 3/10\n",
            "94/94 [==============================] - 14s 147ms/step - loss: 0.1216 - accuracy: 0.9597 - val_loss: 0.0797 - val_accuracy: 0.9770\n",
            "Epoch 4/10\n",
            "94/94 [==============================] - 15s 155ms/step - loss: 0.0874 - accuracy: 0.9683 - val_loss: 0.0734 - val_accuracy: 0.9760\n",
            "Epoch 5/10\n",
            "94/94 [==============================] - 14s 148ms/step - loss: 0.0575 - accuracy: 0.9797 - val_loss: 0.0719 - val_accuracy: 0.9860\n",
            "Epoch 6/10\n",
            "94/94 [==============================] - 14s 149ms/step - loss: 0.0460 - accuracy: 0.9867 - val_loss: 0.0754 - val_accuracy: 0.9720\n",
            "Epoch 7/10\n",
            "94/94 [==============================] - 14s 151ms/step - loss: 0.0320 - accuracy: 0.9883 - val_loss: 0.0687 - val_accuracy: 0.9880\n",
            "Epoch 8/10\n",
            "94/94 [==============================] - 14s 150ms/step - loss: 0.0249 - accuracy: 0.9910 - val_loss: 0.0850 - val_accuracy: 0.9750\n",
            "Epoch 9/10\n",
            "94/94 [==============================] - 14s 151ms/step - loss: 0.0163 - accuracy: 0.9940 - val_loss: 0.1159 - val_accuracy: 0.9810\n",
            "Epoch 10/10\n",
            "94/94 [==============================] - 14s 150ms/step - loss: 0.0186 - accuracy: 0.9937 - val_loss: 0.1045 - val_accuracy: 0.9870\n"
          ]
        }
      ]
    },
    {
      "cell_type": "code",
      "source": [
        "# Evaluate the model\n",
        "from sklearn.metrics import classification_report, confusion_matrix\n",
        "predictions = model.predict(X_test)\n",
        "print(classification_report(Y_test, predictions.round()))\n"
      ],
      "metadata": {
        "colab": {
          "base_uri": "https://localhost:8080/"
        },
        "id": "TnaW4NZJInxC",
        "outputId": "b8d50e39-03a1-4cdd-efe7-26c74ae3a2f1"
      },
      "execution_count": 15,
      "outputs": [
        {
          "output_type": "stream",
          "name": "stdout",
          "text": [
            "              precision    recall  f1-score   support\n",
            "\n",
            "           0       0.98      1.00      0.99       733\n",
            "           1       1.00      0.96      0.98       267\n",
            "\n",
            "    accuracy                           0.99      1000\n",
            "   macro avg       0.99      0.98      0.98      1000\n",
            "weighted avg       0.99      0.99      0.99      1000\n",
            "\n"
          ]
        }
      ]
    },
    {
      "cell_type": "code",
      "source": [
        "print(confusion_matrix(Y_test, predictions.round()))"
      ],
      "metadata": {
        "colab": {
          "base_uri": "https://localhost:8080/"
        },
        "id": "FBdFFbG0In08",
        "outputId": "43c967d7-8205-4354-d627-8ded5815fee9"
      },
      "execution_count": 16,
      "outputs": [
        {
          "output_type": "stream",
          "name": "stdout",
          "text": [
            "[[732   1]\n",
            " [ 12 255]]\n"
          ]
        }
      ]
    }
  ]
}